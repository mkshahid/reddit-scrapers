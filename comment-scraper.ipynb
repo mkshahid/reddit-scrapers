{
 "cells": [
  {
   "cell_type": "code",
   "execution_count": 16,
   "id": "69dc5bc3",
   "metadata": {},
   "outputs": [],
   "source": [
    "def exportThreadComments(threadUrl):\n",
    "    import numpy as np\n",
    "    import pandas as pd\n",
    "\n",
    "    import requests, json, time, datetime\n",
    "    import praw\n",
    "\n",
    "    import re\n",
    "\n",
    "    # login credentials\n",
    "    r_creds = {\n",
    "        \"id\" : \"\",\n",
    "        \"secret\" : \"\",\n",
    "        \"user\" : \"Adventurous_Party788\",\n",
    "        \"pass\" : \"\"\n",
    "    }\n",
    "\n",
    "    creds_file = open('creds.json', \"r\")\n",
    "    r_creds = json.loads(creds_file.read())\n",
    "\n",
    "    reddit = praw.Reddit(\n",
    "        client_id = r_creds['id'],\n",
    "        client_secret = r_creds['secret'],\n",
    "        username = r_creds['user'],\n",
    "        password = r_creds['pass'],\n",
    "        user_agent = 'michael'\n",
    "    )\n",
    "\n",
    "    # access thread post using url\n",
    "    submission = reddit.submission(url=threadUrl)\n",
    "\n",
    "    # replace 'more comments'\n",
    "    submission.comments.replace_more(limit=None)\n",
    "\n",
    "    dfs = []\n",
    "\n",
    "    comment_body = [comment.body for comment in submission.comments.list()]\n",
    "    word_count = [len(comment.body.split()) for comment in submission.comments.list()]\n",
    "    up_votes = [comment.ups for comment in submission.comments.list()]\n",
    "\n",
    "    category_dict = {\n",
    "        'comment_body': comment_body,\n",
    "        'word_count' : word_count,\n",
    "        'up_votes' : up_votes,\n",
    "        'url' : threadUrl,\n",
    "        'subreddit' : re.search(r\"www.reddit.com/r/([^/]+)/\",threadUrl).group(1)\n",
    "    }\n",
    "\n",
    "    # create and add dataframe to dfs list\n",
    "    dfs.append(pd.DataFrame(category_dict))    \n",
    "\n",
    "    # combine all dataframes\n",
    "    df = dfs[0].append(dfs[1:])\n",
    "\n",
    "    # export data to csv\n",
    "    df.to_csv('./data/' + re.search(r\"www.reddit.com/r/([^/]+)/\",threadUrl).group(1) + '_thread_comments.csv', encoding='utf-8', index=False)"
   ]
  },
  {
   "cell_type": "code",
   "execution_count": 17,
   "id": "03d5b38c",
   "metadata": {},
   "outputs": [
    {
     "name": "stderr",
     "output_type": "stream",
     "text": [
      "/var/folders/8t/9lr88cgn3xb54w91878m0c1m0000gn/T/ipykernel_36378/1492010812.py:53: FutureWarning: The frame.append method is deprecated and will be removed from pandas in a future version. Use pandas.concat instead.\n",
      "  df = dfs[0].append(dfs[1:])\n"
     ]
    }
   ],
   "source": [
    "exportThreadComments('https://www.reddit.com/r/remnantgame/comments/s7dqcy/welcome_to_rremnantgame/')"
   ]
  }
 ],
 "metadata": {
  "kernelspec": {
   "display_name": "Python 3 (ipykernel)",
   "language": "python",
   "name": "python3"
  },
  "language_info": {
   "codemirror_mode": {
    "name": "ipython",
    "version": 3
   },
   "file_extension": ".py",
   "mimetype": "text/x-python",
   "name": "python",
   "nbconvert_exporter": "python",
   "pygments_lexer": "ipython3",
   "version": "3.10.5"
  }
 },
 "nbformat": 4,
 "nbformat_minor": 5
}
